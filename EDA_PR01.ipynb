{
 "cells": [
  {
   "cell_type": "markdown",
   "id": "36a41315",
   "metadata": {},
   "source": [
    "# Module End Project\n",
    "Providing a dataset of employees working in ABC company. It consists of 458 rows and 9 columns. The company needs the detailed report and explanation of their employees in each team, also need to identify the following:"
   ]
  },
  {
   "cell_type": "code",
   "execution_count": 38,
   "id": "c785d32e",
   "metadata": {},
   "outputs": [],
   "source": [
    "import pandas as pd\n",
    "import numpy as np\n",
    "import matplotlib.pyplot as plt\n",
    "import seaborn as sns"
   ]
  },
  {
   "cell_type": "code",
   "execution_count": 39,
   "id": "5f7b24dd",
   "metadata": {},
   "outputs": [
    {
     "data": {
      "text/html": [
       "<div>\n",
       "<style scoped>\n",
       "    .dataframe tbody tr th:only-of-type {\n",
       "        vertical-align: middle;\n",
       "    }\n",
       "\n",
       "    .dataframe tbody tr th {\n",
       "        vertical-align: top;\n",
       "    }\n",
       "\n",
       "    .dataframe thead th {\n",
       "        text-align: right;\n",
       "    }\n",
       "</style>\n",
       "<table border=\"1\" class=\"dataframe\">\n",
       "  <thead>\n",
       "    <tr style=\"text-align: right;\">\n",
       "      <th></th>\n",
       "      <th>Name</th>\n",
       "      <th>Team</th>\n",
       "      <th>Number</th>\n",
       "      <th>Position</th>\n",
       "      <th>Age</th>\n",
       "      <th>Height</th>\n",
       "      <th>Weight</th>\n",
       "      <th>College</th>\n",
       "      <th>Salary</th>\n",
       "    </tr>\n",
       "  </thead>\n",
       "  <tbody>\n",
       "    <tr>\n",
       "      <th>0</th>\n",
       "      <td>Avery Bradley</td>\n",
       "      <td>Boston Celtics</td>\n",
       "      <td>0</td>\n",
       "      <td>PG</td>\n",
       "      <td>25</td>\n",
       "      <td>06-Feb</td>\n",
       "      <td>180</td>\n",
       "      <td>Texas</td>\n",
       "      <td>7730337.0</td>\n",
       "    </tr>\n",
       "    <tr>\n",
       "      <th>1</th>\n",
       "      <td>Jae Crowder</td>\n",
       "      <td>Boston Celtics</td>\n",
       "      <td>99</td>\n",
       "      <td>SF</td>\n",
       "      <td>25</td>\n",
       "      <td>06-Jun</td>\n",
       "      <td>235</td>\n",
       "      <td>Marquette</td>\n",
       "      <td>6796117.0</td>\n",
       "    </tr>\n",
       "    <tr>\n",
       "      <th>2</th>\n",
       "      <td>John Holland</td>\n",
       "      <td>Boston Celtics</td>\n",
       "      <td>30</td>\n",
       "      <td>SG</td>\n",
       "      <td>27</td>\n",
       "      <td>06-May</td>\n",
       "      <td>205</td>\n",
       "      <td>Boston University</td>\n",
       "      <td>NaN</td>\n",
       "    </tr>\n",
       "    <tr>\n",
       "      <th>3</th>\n",
       "      <td>R.J. Hunter</td>\n",
       "      <td>Boston Celtics</td>\n",
       "      <td>28</td>\n",
       "      <td>SG</td>\n",
       "      <td>22</td>\n",
       "      <td>06-May</td>\n",
       "      <td>185</td>\n",
       "      <td>Georgia State</td>\n",
       "      <td>1148640.0</td>\n",
       "    </tr>\n",
       "    <tr>\n",
       "      <th>4</th>\n",
       "      <td>Jonas Jerebko</td>\n",
       "      <td>Boston Celtics</td>\n",
       "      <td>8</td>\n",
       "      <td>PF</td>\n",
       "      <td>29</td>\n",
       "      <td>06-Oct</td>\n",
       "      <td>231</td>\n",
       "      <td>NaN</td>\n",
       "      <td>5000000.0</td>\n",
       "    </tr>\n",
       "  </tbody>\n",
       "</table>\n",
       "</div>"
      ],
      "text/plain": [
       "            Name            Team  Number Position  Age  Height  Weight  \\\n",
       "0  Avery Bradley  Boston Celtics       0       PG   25  06-Feb     180   \n",
       "1    Jae Crowder  Boston Celtics      99       SF   25  06-Jun     235   \n",
       "2   John Holland  Boston Celtics      30       SG   27  06-May     205   \n",
       "3    R.J. Hunter  Boston Celtics      28       SG   22  06-May     185   \n",
       "4  Jonas Jerebko  Boston Celtics       8       PF   29  06-Oct     231   \n",
       "\n",
       "             College     Salary  \n",
       "0              Texas  7730337.0  \n",
       "1          Marquette  6796117.0  \n",
       "2  Boston University        NaN  \n",
       "3      Georgia State  1148640.0  \n",
       "4                NaN  5000000.0  "
      ]
     },
     "execution_count": 39,
     "metadata": {},
     "output_type": "execute_result"
    }
   ],
   "source": [
    "employee = pd.read_csv('myexcel.csv')\n",
    "employee.head()"
   ]
  },
  {
   "cell_type": "code",
   "execution_count": 40,
   "id": "9088bd0e",
   "metadata": {
    "scrolled": true
   },
   "outputs": [
    {
     "name": "stdout",
     "output_type": "stream",
     "text": [
      "<class 'pandas.core.frame.DataFrame'>\n",
      "RangeIndex: 458 entries, 0 to 457\n",
      "Data columns (total 9 columns):\n",
      " #   Column    Non-Null Count  Dtype  \n",
      "---  ------    --------------  -----  \n",
      " 0   Name      458 non-null    object \n",
      " 1   Team      458 non-null    object \n",
      " 2   Number    458 non-null    int64  \n",
      " 3   Position  458 non-null    object \n",
      " 4   Age       458 non-null    int64  \n",
      " 5   Height    458 non-null    object \n",
      " 6   Weight    458 non-null    int64  \n",
      " 7   College   374 non-null    object \n",
      " 8   Salary    447 non-null    float64\n",
      "dtypes: float64(1), int64(3), object(5)\n",
      "memory usage: 32.3+ KB\n"
     ]
    }
   ],
   "source": [
    "employee.info()"
   ]
  },
  {
   "cell_type": "code",
   "execution_count": 41,
   "id": "d3a711a7",
   "metadata": {},
   "outputs": [
    {
     "data": {
      "text/plain": [
       "0      169\n",
       "1      166\n",
       "2      155\n",
       "3      162\n",
       "4      159\n",
       "      ... \n",
       "453    153\n",
       "454    157\n",
       "455    151\n",
       "456    168\n",
       "457    167\n",
       "Name: Height, Length: 458, dtype: int32"
      ]
     },
     "execution_count": 41,
     "metadata": {},
     "output_type": "execute_result"
    }
   ],
   "source": [
    "employee.Height = np.random.randint(150,180, employee.shape[0])\n",
    "employee.Height"
   ]
  },
  {
   "cell_type": "markdown",
   "id": "cf4fee3a",
   "metadata": {},
   "source": [
    "### 1.How many are there in each Team and the percentage splitting with respect to the total employees."
   ]
  },
  {
   "cell_type": "code",
   "execution_count": 42,
   "id": "3e9a6c45",
   "metadata": {},
   "outputs": [
    {
     "name": "stdout",
     "output_type": "stream",
     "text": [
      "\n",
      "Number of Employees in each Team\n",
      "\n",
      " New Orleans Pelicans      19\n",
      "Memphis Grizzlies         18\n",
      "Utah Jazz                 16\n",
      "New York Knicks           16\n",
      "Milwaukee Bucks           16\n",
      "Brooklyn Nets             15\n",
      "Portland Trail Blazers    15\n",
      "Oklahoma City Thunder     15\n",
      "Denver Nuggets            15\n",
      "Washington Wizards        15\n",
      "Miami Heat                15\n",
      "Charlotte Hornets         15\n",
      "Atlanta Hawks             15\n",
      "San Antonio Spurs         15\n",
      "Houston Rockets           15\n",
      "Boston Celtics            15\n",
      "Indiana Pacers            15\n",
      "Detroit Pistons           15\n",
      "Cleveland Cavaliers       15\n",
      "Chicago Bulls             15\n",
      "Sacramento Kings          15\n",
      "Phoenix Suns              15\n",
      "Los Angeles Lakers        15\n",
      "Los Angeles Clippers      15\n",
      "Golden State Warriors     15\n",
      "Toronto Raptors           15\n",
      "Philadelphia 76ers        15\n",
      "Dallas Mavericks          15\n",
      "Orlando Magic             14\n",
      "Minnesota Timberwolves    14\n",
      "Name: Team, dtype: int64\n"
     ]
    }
   ],
   "source": [
    "#Members in each Team\n",
    "number = employee.Team.value_counts()\n",
    "print('\\nNumber of Employees in each Team\\n\\n', number)"
   ]
  },
  {
   "cell_type": "code",
   "execution_count": 43,
   "id": "ab753a30",
   "metadata": {},
   "outputs": [
    {
     "name": "stdout",
     "output_type": "stream",
     "text": [
      "\n",
      "Percentage of Employees in each Team\n",
      "\n",
      " New Orleans Pelicans      4.15\n",
      "Memphis Grizzlies         3.93\n",
      "Utah Jazz                 3.49\n",
      "New York Knicks           3.49\n",
      "Milwaukee Bucks           3.49\n",
      "Brooklyn Nets             3.28\n",
      "Portland Trail Blazers    3.28\n",
      "Oklahoma City Thunder     3.28\n",
      "Denver Nuggets            3.28\n",
      "Washington Wizards        3.28\n",
      "Miami Heat                3.28\n",
      "Charlotte Hornets         3.28\n",
      "Atlanta Hawks             3.28\n",
      "San Antonio Spurs         3.28\n",
      "Houston Rockets           3.28\n",
      "Boston Celtics            3.28\n",
      "Indiana Pacers            3.28\n",
      "Detroit Pistons           3.28\n",
      "Cleveland Cavaliers       3.28\n",
      "Chicago Bulls             3.28\n",
      "Sacramento Kings          3.28\n",
      "Phoenix Suns              3.28\n",
      "Los Angeles Lakers        3.28\n",
      "Los Angeles Clippers      3.28\n",
      "Golden State Warriors     3.28\n",
      "Toronto Raptors           3.28\n",
      "Philadelphia 76ers        3.28\n",
      "Dallas Mavericks          3.28\n",
      "Orlando Magic             3.06\n",
      "Minnesota Timberwolves    3.06\n",
      "Name: Team, dtype: float64\n"
     ]
    }
   ],
   "source": [
    "#Members percentage in each Team\n",
    "percentage = (employee.Team.value_counts()/employee.Team.value_counts().sum())*100\n",
    "percentage = np.round((percentage),2)\n",
    "print('\\nPercentage of Employees in each Team\\n\\n', percentage)"
   ]
  },
  {
   "cell_type": "markdown",
   "id": "408bb29f",
   "metadata": {},
   "source": [
    "### 2.Segregate the employees w.r.t different positions."
   ]
  },
  {
   "cell_type": "code",
   "execution_count": 44,
   "id": "83df498b",
   "metadata": {},
   "outputs": [
    {
     "name": "stdout",
     "output_type": "stream",
     "text": [
      "Position : C\n",
      "\n",
      "\n",
      "Data:                 Name                    Team  Number Position  Age  Height  \\\n",
      "7       Kelly Olynyk          Boston Celtics      41        C   25     159   \n",
      "10   Jared Sullinger          Boston Celtics       7        C   24     153   \n",
      "14      Tyler Zeller          Boston Celtics      44        C   26     157   \n",
      "23       Brook Lopez           Brooklyn Nets      11        C   28     178   \n",
      "27        Henry Sims           Brooklyn Nets      14        C   26     152   \n",
      "..               ...                     ...     ...      ...  ...     ...   \n",
      "439    Mason Plumlee  Portland Trail Blazers      24        C   26     157   \n",
      "447      Rudy Gobert               Utah Jazz      27        C   23     169   \n",
      "455     Tibor Pleiss               Utah Jazz      21        C   26     151   \n",
      "456      Jeff Withey               Utah Jazz      24        C   26     168   \n",
      "457         Priyanka               Utah Jazz      34        C   25     167   \n",
      "\n",
      "     Weight         College      Salary  \n",
      "7       238         Gonzaga   2165160.0  \n",
      "10      260      Ohio State   2569260.0  \n",
      "14      253  North Carolina   2616975.0  \n",
      "23      275        Stanford  19689000.0  \n",
      "27      248      Georgetown    947276.0  \n",
      "..      ...             ...         ...  \n",
      "439     235            Duke   1415520.0  \n",
      "447     245             NaN   1175880.0  \n",
      "455     256             NaN   2900000.0  \n",
      "456     231          Kansas    947276.0  \n",
      "457     231          Kansas    947276.0  \n",
      "\n",
      "[79 rows x 9 columns]\n",
      "Position : PF\n",
      "\n",
      "\n",
      "Data:                  Name                    Team  Number Position  Age  Height  \\\n",
      "4       Jonas Jerebko          Boston Celtics       8       PF   29     159   \n",
      "5        Amir Johnson          Boston Celtics      90       PF   29     157   \n",
      "6       Jordan Mickey          Boston Celtics      55       PF   21     162   \n",
      "24   Chris McCullough           Brooklyn Nets       1       PF   21     158   \n",
      "25        Willie Reed           Brooklyn Nets      33       PF   26     176   \n",
      "..                ...                     ...     ...      ...  ...     ...   \n",
      "435    Meyers Leonard  Portland Trail Blazers      11       PF   24     170   \n",
      "441       Noah Vonleh  Portland Trail Blazers      21       PF   20     167   \n",
      "442     Trevor Booker               Utah Jazz      33       PF   28     168   \n",
      "446    Derrick Favors               Utah Jazz      15       PF   24     154   \n",
      "452        Trey Lyles               Utah Jazz      41       PF   20     150   \n",
      "\n",
      "     Weight       College      Salary  \n",
      "4       231           NaN   5000000.0  \n",
      "5       240           NaN  12000000.0  \n",
      "6       235           LSU   1170960.0  \n",
      "24      200      Syracuse   1140240.0  \n",
      "25      220   Saint Louis    947276.0  \n",
      "..      ...           ...         ...  \n",
      "435     245      Illinois   3075880.0  \n",
      "441     240       Indiana   2637720.0  \n",
      "442     228       Clemson   4775000.0  \n",
      "446     265  Georgia Tech  12000000.0  \n",
      "452     234      Kentucky   2239800.0  \n",
      "\n",
      "[100 rows x 9 columns]\n",
      "Position : PG\n",
      "\n",
      "\n",
      "Data:               Name                    Team  Number Position  Age  Height  \\\n",
      "0    Avery Bradley          Boston Celtics       0       PG   25     169   \n",
      "8     Terry Rozier          Boston Celtics      12       PG   22     158   \n",
      "9     Marcus Smart          Boston Celtics      36       PG   22     173   \n",
      "11   Isaiah Thomas          Boston Celtics       4       PG   27     166   \n",
      "19    Jarrett Jack           Brooklyn Nets       2       PG   32     159   \n",
      "..             ...                     ...     ...      ...  ...     ...   \n",
      "440  Brian Roberts  Portland Trail Blazers       2       PG   30     159   \n",
      "443     Trey Burke               Utah Jazz       3       PG   23     156   \n",
      "445     Dante Exum               Utah Jazz      11       PG   20     159   \n",
      "453   Shelvin Mack               Utah Jazz       8       PG   26     153   \n",
      "454      Raul Neto               Utah Jazz      25       PG   24     157   \n",
      "\n",
      "     Weight         College     Salary  \n",
      "0       180           Texas  7730337.0  \n",
      "8       190      Louisville  1824360.0  \n",
      "9       220  Oklahoma State  3431040.0  \n",
      "11      185      Washington  6912869.0  \n",
      "19      200    Georgia Tech  6300000.0  \n",
      "..      ...             ...        ...  \n",
      "440     173          Dayton  2854940.0  \n",
      "443     191        Michigan  2658240.0  \n",
      "445     190             NaN  3777720.0  \n",
      "453     203          Butler  2433333.0  \n",
      "454     179             NaN   900000.0  \n",
      "\n",
      "[92 rows x 9 columns]\n",
      "Position : SF\n",
      "\n",
      "\n",
      "Data:                        Name                    Team  Number Position  Age  \\\n",
      "1               Jae Crowder          Boston Celtics      99       SF   25   \n",
      "32   Thanasis Antetokounmpo         New York Knicks      43       SF   23   \n",
      "33          Carmelo Anthony         New York Knicks       7       SF   32   \n",
      "35         Cleanthony Early         New York Knicks      11       SF   25   \n",
      "42             Lance Thomas         New York Knicks      42       SF   28   \n",
      "..                      ...                     ...     ...      ...  ...   \n",
      "428         Al-Farouq Aminu  Portland Trail Blazers       8       SF   25   \n",
      "432        Maurice Harkless  Portland Trail Blazers       4       SF   23   \n",
      "448          Gordon Hayward               Utah Jazz      20       SF   26   \n",
      "450              Joe Ingles               Utah Jazz       2       SF   28   \n",
      "451           Chris Johnson               Utah Jazz      23       SF   26   \n",
      "\n",
      "     Height  Weight        College      Salary  \n",
      "1       166     235      Marquette   6796117.0  \n",
      "32      159     205            NaN     30888.0  \n",
      "33      153     240       Syracuse  22875000.0  \n",
      "35      169     210  Wichita State    845059.0  \n",
      "42      164     235           Duke   1636842.0  \n",
      "..      ...     ...            ...         ...  \n",
      "428     176     215    Wake Forest   8042895.0  \n",
      "432     150     215     St. John's   2894059.0  \n",
      "448     159     226         Butler  15409570.0  \n",
      "450     170     226            NaN   2050000.0  \n",
      "451     167     206         Dayton    981348.0  \n",
      "\n",
      "[85 rows x 9 columns]\n",
      "Position : SG\n",
      "\n",
      "\n",
      "Data:                  Name                    Team  Number Position  Age  Height  \\\n",
      "2        John Holland          Boston Celtics      30       SG   27     155   \n",
      "3         R.J. Hunter          Boston Celtics      28       SG   22     162   \n",
      "12        Evan Turner          Boston Celtics      11       SG   27     153   \n",
      "13        James Young          Boston Celtics      13       SG   20     150   \n",
      "15   Bojan Bogdanovic           Brooklyn Nets      44       SG   27     159   \n",
      "..                ...                     ...     ...      ...  ...     ...   \n",
      "433  Gerald Henderson  Portland Trail Blazers       9       SG   28     157   \n",
      "437     C.J. McCollum  Portland Trail Blazers       3       SG   24     171   \n",
      "438      Luis Montero  Portland Trail Blazers      44       SG   23     168   \n",
      "444        Alec Burks               Utah Jazz      10       SG   24     157   \n",
      "449       Rodney Hood               Utah Jazz       5       SG   23     159   \n",
      "\n",
      "     Weight            College     Salary  \n",
      "2       205  Boston University        NaN  \n",
      "3       185      Georgia State  1148640.0  \n",
      "12      220         Ohio State  3425510.0  \n",
      "13      215           Kentucky  1749840.0  \n",
      "15      216                NaN  3425510.0  \n",
      "..      ...                ...        ...  \n",
      "433     215               Duke  6000000.0  \n",
      "437     200             Lehigh  2525160.0  \n",
      "438     185     Westchester CC   525093.0  \n",
      "444     214           Colorado  9463484.0  \n",
      "449     206               Duke  1348440.0  \n",
      "\n",
      "[102 rows x 9 columns]\n"
     ]
    }
   ],
   "source": [
    "positions = employee.groupby('Position')\n",
    "for Position, data in positions:\n",
    "    print(f'Position : {Position}')\n",
    "    print('\\n')\n",
    "    print(f'Data: {data}')"
   ]
  },
  {
   "cell_type": "markdown",
   "id": "99874ace",
   "metadata": {},
   "source": [
    "### 3.Find from which age group most of the employees belong to."
   ]
  },
  {
   "cell_type": "code",
   "execution_count": 45,
   "id": "cdba4e0e",
   "metadata": {},
   "outputs": [
    {
     "data": {
      "text/plain": [
       "24    47\n",
       "Name: Age, dtype: int64"
      ]
     },
     "execution_count": 45,
     "metadata": {},
     "output_type": "execute_result"
    }
   ],
   "source": [
    "employee.Age.value_counts().sort_values(ascending = False).head(1)"
   ]
  },
  {
   "cell_type": "markdown",
   "id": "5a756a61",
   "metadata": {},
   "source": [
    "***24 is the age where most of the employees belongs to*** "
   ]
  },
  {
   "cell_type": "markdown",
   "id": "f9291f5f",
   "metadata": {},
   "source": [
    "### 4.Find out under which team and position, spending in terms of salary is high."
   ]
  },
  {
   "cell_type": "code",
   "execution_count": 46,
   "id": "3c77a8d4",
   "metadata": {},
   "outputs": [
    {
     "data": {
      "text/plain": [
       "Position\n",
       "C     466377332.0\n",
       "PG    446848971.0\n",
       "PF    442560850.0\n",
       "SF    408020976.0\n",
       "SG    396976258.0\n",
       "Name: Salary, dtype: float64"
      ]
     },
     "execution_count": 46,
     "metadata": {},
     "output_type": "execute_result"
    }
   ],
   "source": [
    "pos_salary = employee.groupby('Position').Salary.sum().sort_values(ascending = False)\n",
    "pos_salary"
   ]
  },
  {
   "cell_type": "code",
   "execution_count": 47,
   "id": "cd610d05",
   "metadata": {
    "scrolled": true
   },
   "outputs": [
    {
     "data": {
      "text/plain": [
       "<Axes: title={'center': 'Salary distribution over Positions'}, xlabel='Position', ylabel='Salary(10^8)'>"
      ]
     },
     "execution_count": 47,
     "metadata": {},
     "output_type": "execute_result"
    },
    {
     "data": {
      "image/png": "[encoded data removed]",
      "text/plain": [
       "<Figure size 640x480 with 1 Axes>"
      ]
     },
     "metadata": {},
     "output_type": "display_data"
    }
   ],
   "source": [
    "plt.title('Salary distribution over Positions')\n",
    "plt.ylabel('Salary(10^8)')\n",
    "pos_salary.plot(kind = 'bar')"
   ]
  },
  {
   "cell_type": "markdown",
   "id": "052b5959",
   "metadata": {},
   "source": [
    "***C position*** spending more in terms of salary"
   ]
  },
  {
   "cell_type": "code",
   "execution_count": 48,
   "id": "2b3e6298",
   "metadata": {},
   "outputs": [
    {
     "data": {
      "text/plain": [
       "Team\n",
       "Cleveland Cavaliers       106988689.0\n",
       "Los Angeles Clippers       94854640.0\n",
       "Oklahoma City Thunder      93765298.0\n",
       "Golden State Warriors      88868997.0\n",
       "Chicago Bulls              86783378.0\n",
       "San Antonio Spurs          84442733.0\n",
       "New Orleans Pelicans       82750774.0\n",
       "Miami Heat                 82515673.0\n",
       "Charlotte Hornets          78340920.0\n",
       "Memphis Grizzlies          76550880.0\n",
       "Washington Wizards         76328636.0\n",
       "Houston Rockets            75283021.0\n",
       "New York Knicks            73303898.0\n",
       "Atlanta Hawks              72902950.0\n",
       "Los Angeles Lakers         71770431.0\n",
       "Sacramento Kings           71683666.0\n",
       "Dallas Mavericks           71198732.0\n",
       "Toronto Raptors            71117611.0\n",
       "Milwaukee Bucks            69603517.0\n",
       "Detroit Pistons            67168263.0\n",
       "Indiana Pacers             66751826.0\n",
       "Utah Jazz                  64007367.0\n",
       "Phoenix Suns               63445135.0\n",
       "Orlando Magic              60161470.0\n",
       "Denver Nuggets             60121930.0\n",
       "Minnesota Timberwolves     59709697.0\n",
       "Boston Celtics             58541068.0\n",
       "Brooklyn Nets              52528475.0\n",
       "Portland Trail Blazers     48301818.0\n",
       "Philadelphia 76ers         30992894.0\n",
       "Name: Salary, dtype: float64"
      ]
     },
     "execution_count": 48,
     "metadata": {},
     "output_type": "execute_result"
    }
   ],
   "source": [
    "team_salary = employee.groupby('Team').Salary.sum().sort_values(ascending = False)\n",
    "team_salary"
   ]
  },
  {
   "cell_type": "code",
   "execution_count": 49,
   "id": "879e67ba",
   "metadata": {
    "scrolled": true
   },
   "outputs": [
    {
     "data": {
      "text/plain": [
       "<Axes: title={'center': 'Salary distribution over Teams'}, xlabel='Team', ylabel='Salary(10^8)'>"
      ]
     },
     "execution_count": 49,
     "metadata": {},
     "output_type": "execute_result"
    },
    {
     "data": {
      "image/png": "[encoded data removed]",
      "text/plain": [
       "<Figure size 640x480 with 1 Axes>"
      ]
     },
     "metadata": {},
     "output_type": "display_data"
    }
   ],
   "source": [
    "plt.title('Salary distribution over Teams')\n",
    "plt.ylabel('Salary(10^8)')\n",
    "team_salary.plot(kind = 'bar')"
   ]
  },
  {
   "cell_type": "markdown",
   "id": "b015c6be",
   "metadata": {},
   "source": [
    "***Cleveland Cavaliers team*** spending more in terms of salary"
   ]
  },
  {
   "cell_type": "markdown",
   "id": "789bec17",
   "metadata": {},
   "source": [
    "### 5.Find if there is any correlation between age and salary , represent it visually."
   ]
  },
  {
   "cell_type": "code",
   "execution_count": 50,
   "id": "54e95c15",
   "metadata": {
    "scrolled": true
   },
   "outputs": [
    {
     "data": {
      "text/plain": [
       "<Axes: >"
      ]
     },
     "execution_count": 50,
     "metadata": {},
     "output_type": "execute_result"
    },
    {
     "data": {
      "image/png": "[encoded data removed]",
      "text/plain": [
       "<Figure size 640x480 with 2 Axes>"
      ]
     },
     "metadata": {},
     "output_type": "display_data"
    }
   ],
   "source": [
    "age_salary = employee[['Salary', 'Age']]\n",
    "sns.heatmap(age_salary.corr(), annot = True)"
   ]
  },
  {
   "cell_type": "markdown",
   "id": "b393515e",
   "metadata": {},
   "source": [
    "Here the correlation between age and salary is 0.21\n",
    "this indicates:-\n",
    "***There is a positive association between the age and salary, but it is relatively weak***"
   ]
  }
 ],
 "metadata": {
  "kernelspec": {
   "display_name": "Python 3 (ipykernel)",
   "language": "python",
   "name": "python3"
  },
  "language_info": {
   "codemirror_mode": {
    "name": "ipython",
    "version": 3
   },
   "file_extension": ".py",
   "mimetype": "text/x-python",
   "name": "python",
   "nbconvert_exporter": "python",
   "pygments_lexer": "ipython3",
   "version": "3.11.1"
  }
 },
 "nbformat": 4,
 "nbformat_minor": 5
}
